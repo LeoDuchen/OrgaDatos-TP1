{
  "nbformat": 4,
  "nbformat_minor": 0,
  "metadata": {
    "colab": {
      "provenance": []
    },
    "kernelspec": {
      "name": "python3",
      "display_name": "Python 3"
    },
    "language_info": {
      "name": "python"
    }
  },
  "cells": [
    {
      "cell_type": "markdown",
      "source": [
        "Calcular la antigüedad promedio de las app de categoría “Family”."
      ],
      "metadata": {
        "id": "c-ZpKM8VKouJ"
      }
    },
    {
      "cell_type": "markdown",
      "source": [
        "# Cargo el csv y hago ajustes necesarios."
      ],
      "metadata": {
        "id": "NvzwR-9n9E2I"
      }
    },
    {
      "cell_type": "code",
      "execution_count": null,
      "metadata": {
        "id": "YAGF6a3YK1Qe",
        "colab": {
          "base_uri": "https://localhost:8080/"
        },
        "outputId": "eee22166-cff5-4f6d-9b1f-2b8824f4c5d8"
      },
      "outputs": [
        {
          "output_type": "stream",
          "name": "stdout",
          "text": [
            "Collecting pyspark\n",
            "  Downloading pyspark-3.5.0.tar.gz (316.9 MB)\n",
            "\u001b[2K     \u001b[90m━━━━━━━━━━━━━━━━━━━━━━━━━━━━━━━━━━━━━━━\u001b[0m \u001b[32m316.9/316.9 MB\u001b[0m \u001b[31m3.3 MB/s\u001b[0m eta \u001b[36m0:00:00\u001b[0m\n",
            "\u001b[?25h  Preparing metadata (setup.py) ... \u001b[?25l\u001b[?25hdone\n",
            "Requirement already satisfied: py4j==0.10.9.7 in /usr/local/lib/python3.10/dist-packages (from pyspark) (0.10.9.7)\n",
            "Building wheels for collected packages: pyspark\n",
            "  Building wheel for pyspark (setup.py) ... \u001b[?25l\u001b[?25hdone\n",
            "  Created wheel for pyspark: filename=pyspark-3.5.0-py2.py3-none-any.whl size=317425344 sha256=6fb5a545b0d2ad05eede5cd92d19970005cee9756c799be54114ffa99ede88b1\n",
            "  Stored in directory: /root/.cache/pip/wheels/41/4e/10/c2cf2467f71c678cfc8a6b9ac9241e5e44a01940da8fbb17fc\n",
            "Successfully built pyspark\n",
            "Installing collected packages: pyspark\n",
            "Successfully installed pyspark-3.5.0\n",
            "Get:1 https://cloud.r-project.org/bin/linux/ubuntu jammy-cran40/ InRelease [3,626 B]\n",
            "Hit:2 https://developer.download.nvidia.com/compute/cuda/repos/ubuntu2204/x86_64  InRelease\n",
            "Get:3 http://security.ubuntu.com/ubuntu jammy-security InRelease [110 kB]\n",
            "Hit:4 http://archive.ubuntu.com/ubuntu jammy InRelease\n",
            "Get:5 http://archive.ubuntu.com/ubuntu jammy-updates InRelease [119 kB]\n",
            "Hit:6 https://ppa.launchpadcontent.net/c2d4u.team/c2d4u4.0+/ubuntu jammy InRelease\n",
            "Get:7 http://archive.ubuntu.com/ubuntu jammy-backports InRelease [109 kB]\n",
            "Hit:8 https://ppa.launchpadcontent.net/deadsnakes/ppa/ubuntu jammy InRelease\n",
            "Get:9 http://archive.ubuntu.com/ubuntu jammy-updates/main amd64 Packages [1,342 kB]\n",
            "Hit:10 https://ppa.launchpadcontent.net/graphics-drivers/ppa/ubuntu jammy InRelease\n",
            "Get:11 http://archive.ubuntu.com/ubuntu jammy-updates/universe amd64 Packages [1,266 kB]\n",
            "Hit:12 https://ppa.launchpadcontent.net/ubuntugis/ppa/ubuntu jammy InRelease\n",
            "Fetched 2,950 kB in 2s (1,601 kB/s)\n",
            "Reading package lists... Done\n",
            "Building dependency tree... Done\n",
            "Reading state information... Done\n",
            "18 packages can be upgraded. Run 'apt list --upgradable' to see them.\n",
            "The following additional packages will be installed:\n",
            "  libxtst6 openjdk-8-jre-headless\n",
            "Suggested packages:\n",
            "  openjdk-8-demo openjdk-8-source libnss-mdns fonts-dejavu-extra fonts-nanum\n",
            "  fonts-ipafont-gothic fonts-ipafont-mincho fonts-wqy-microhei\n",
            "  fonts-wqy-zenhei fonts-indic\n",
            "The following NEW packages will be installed:\n",
            "  libxtst6 openjdk-8-jdk-headless openjdk-8-jre-headless\n",
            "0 upgraded, 3 newly installed, 0 to remove and 18 not upgraded.\n",
            "Need to get 39.7 MB of archives.\n",
            "After this operation, 144 MB of additional disk space will be used.\n",
            "Selecting previously unselected package libxtst6:amd64.\n",
            "(Reading database ... 120875 files and directories currently installed.)\n",
            "Preparing to unpack .../libxtst6_2%3a1.2.3-1build4_amd64.deb ...\n",
            "Unpacking libxtst6:amd64 (2:1.2.3-1build4) ...\n",
            "Selecting previously unselected package openjdk-8-jre-headless:amd64.\n",
            "Preparing to unpack .../openjdk-8-jre-headless_8u382-ga-1~22.04.1_amd64.deb ...\n",
            "Unpacking openjdk-8-jre-headless:amd64 (8u382-ga-1~22.04.1) ...\n",
            "Selecting previously unselected package openjdk-8-jdk-headless:amd64.\n",
            "Preparing to unpack .../openjdk-8-jdk-headless_8u382-ga-1~22.04.1_amd64.deb ...\n",
            "Unpacking openjdk-8-jdk-headless:amd64 (8u382-ga-1~22.04.1) ...\n",
            "Setting up libxtst6:amd64 (2:1.2.3-1build4) ...\n",
            "Setting up openjdk-8-jre-headless:amd64 (8u382-ga-1~22.04.1) ...\n",
            "update-alternatives: using /usr/lib/jvm/java-8-openjdk-amd64/jre/bin/orbd to provide /usr/bin/orbd (orbd) in auto mode\n",
            "update-alternatives: using /usr/lib/jvm/java-8-openjdk-amd64/jre/bin/servertool to provide /usr/bin/servertool (servertool) in auto mode\n",
            "update-alternatives: using /usr/lib/jvm/java-8-openjdk-amd64/jre/bin/tnameserv to provide /usr/bin/tnameserv (tnameserv) in auto mode\n",
            "Setting up openjdk-8-jdk-headless:amd64 (8u382-ga-1~22.04.1) ...\n",
            "update-alternatives: using /usr/lib/jvm/java-8-openjdk-amd64/bin/clhsdb to provide /usr/bin/clhsdb (clhsdb) in auto mode\n",
            "update-alternatives: using /usr/lib/jvm/java-8-openjdk-amd64/bin/extcheck to provide /usr/bin/extcheck (extcheck) in auto mode\n",
            "update-alternatives: using /usr/lib/jvm/java-8-openjdk-amd64/bin/hsdb to provide /usr/bin/hsdb (hsdb) in auto mode\n",
            "update-alternatives: using /usr/lib/jvm/java-8-openjdk-amd64/bin/idlj to provide /usr/bin/idlj (idlj) in auto mode\n",
            "update-alternatives: using /usr/lib/jvm/java-8-openjdk-amd64/bin/javah to provide /usr/bin/javah (javah) in auto mode\n",
            "update-alternatives: using /usr/lib/jvm/java-8-openjdk-amd64/bin/jhat to provide /usr/bin/jhat (jhat) in auto mode\n",
            "update-alternatives: using /usr/lib/jvm/java-8-openjdk-amd64/bin/jsadebugd to provide /usr/bin/jsadebugd (jsadebugd) in auto mode\n",
            "update-alternatives: using /usr/lib/jvm/java-8-openjdk-amd64/bin/native2ascii to provide /usr/bin/native2ascii (native2ascii) in auto mode\n",
            "update-alternatives: using /usr/lib/jvm/java-8-openjdk-amd64/bin/schemagen to provide /usr/bin/schemagen (schemagen) in auto mode\n",
            "update-alternatives: using /usr/lib/jvm/java-8-openjdk-amd64/bin/wsgen to provide /usr/bin/wsgen (wsgen) in auto mode\n",
            "update-alternatives: using /usr/lib/jvm/java-8-openjdk-amd64/bin/wsimport to provide /usr/bin/wsimport (wsimport) in auto mode\n",
            "update-alternatives: using /usr/lib/jvm/java-8-openjdk-amd64/bin/xjc to provide /usr/bin/xjc (xjc) in auto mode\n",
            "Processing triggers for libc-bin (2.35-0ubuntu3.1) ...\n",
            "/sbin/ldconfig.real: /usr/local/lib/libtbbmalloc.so.2 is not a symbolic link\n",
            "\n",
            "/sbin/ldconfig.real: /usr/local/lib/libtbbmalloc_proxy.so.2 is not a symbolic link\n",
            "\n",
            "/sbin/ldconfig.real: /usr/local/lib/libtbbbind_2_0.so.3 is not a symbolic link\n",
            "\n",
            "/sbin/ldconfig.real: /usr/local/lib/libtbbbind_2_5.so.3 is not a symbolic link\n",
            "\n",
            "/sbin/ldconfig.real: /usr/local/lib/libtbbbind.so.3 is not a symbolic link\n",
            "\n",
            "/sbin/ldconfig.real: /usr/local/lib/libtbb.so.12 is not a symbolic link\n",
            "\n"
          ]
        }
      ],
      "source": [
        "! pip install pyspark\n",
        "! pip install -U -q PyDrive\n",
        "! apt update\n",
        "! apt install openjdk-8-jdk-headless -qq\n",
        "import os\n",
        "os.environ[\"JAVA_HOME\"] = \"/usr/lib/jvm/java-8-openjdk-amd64\""
      ]
    },
    {
      "cell_type": "code",
      "source": [
        "from pydrive.auth import GoogleAuth\n",
        "from pydrive.drive import GoogleDrive\n",
        "from google.colab import auth\n",
        "from oauth2client.client import GoogleCredentials\n",
        "from pyspark.sql import *\n",
        "from pyspark.sql.functions import *\n",
        "from pyspark import SparkContext\n",
        "from pyspark.sql import SQLContext\n",
        "import pandas as pd\n",
        "from pyspark.sql.types import IntegerType\n",
        "from datetime import datetime"
      ],
      "metadata": {
        "id": "Qomu5YyUuLk6"
      },
      "execution_count": null,
      "outputs": []
    },
    {
      "cell_type": "code",
      "source": [
        "auth.authenticate_user()\n",
        "gauth = GoogleAuth()\n",
        "gauth.credentials = GoogleCredentials.get_application_default()\n",
        "drive = GoogleDrive(gauth)"
      ],
      "metadata": {
        "id": "TinT8IVauMr9"
      },
      "execution_count": null,
      "outputs": []
    },
    {
      "cell_type": "code",
      "source": [
        "downloaded = drive.CreateFile({\"id\" : \"1-oPVltZP-8bpOqQtlRLD6yy6TNasoHLP\"})\n",
        "downloaded.GetContentFile(\"googleplaystore.csv\")"
      ],
      "metadata": {
        "id": "bn6E3cP9uORN"
      },
      "execution_count": null,
      "outputs": []
    },
    {
      "cell_type": "code",
      "source": [
        "spark = SparkSession.builder.getOrCreate()\n",
        "sc = spark.sparkContext"
      ],
      "metadata": {
        "id": "tBtLrr3luPPs"
      },
      "execution_count": null,
      "outputs": []
    },
    {
      "cell_type": "markdown",
      "source": [
        "Skipeo una línea con el nombre de la aplicación respectivo porque está mal parseada."
      ],
      "metadata": {
        "id": "8p3LiJMIqgyV"
      }
    },
    {
      "cell_type": "code",
      "source": [
        "sqlContext = SQLContext(sc)\n",
        "df = sqlContext.read.option(\"delimiter\", \",\").option(\"escape\", '\"').csv(\"googleplaystore.csv\", header = True, inferSchema = True)\n",
        "rdd = df.rdd.filter(lambda x: x.App != \"Life Made WI-Fi Touchscreen Photo Frame\")"
      ],
      "metadata": {
        "id": "KnmAYTmUuR28",
        "colab": {
          "base_uri": "https://localhost:8080/"
        },
        "outputId": "7a8ed061-b331-46ee-f472-1007f0361f68"
      },
      "execution_count": null,
      "outputs": [
        {
          "output_type": "stream",
          "name": "stderr",
          "text": [
            "/usr/local/lib/python3.10/dist-packages/pyspark/sql/context.py:113: FutureWarning: Deprecated in 3.0.0. Use SparkSession.builder.getOrCreate() instead.\n",
            "  warnings.warn(\n"
          ]
        }
      ]
    },
    {
      "cell_type": "markdown",
      "source": [
        "# Comienzo del ejercicio."
      ],
      "metadata": {
        "id": "uaLIAaBY9anw"
      }
    },
    {
      "cell_type": "markdown",
      "source": [
        "Uso take en cada celda para la revisión y sé que no es necesario."
      ],
      "metadata": {
        "id": "USpkJqtlBCLH"
      }
    },
    {
      "cell_type": "code",
      "source": [
        "rdd_family = rdd.filter(lambda x: x.Category == \"FAMILY\")\n",
        "rdd_family.take(5)"
      ],
      "metadata": {
        "id": "OTQ6fkvoKusI",
        "colab": {
          "base_uri": "https://localhost:8080/"
        },
        "outputId": "5e91181b-0d53-4049-c3c4-d0b4e66b6ecc"
      },
      "execution_count": null,
      "outputs": [
        {
          "output_type": "execute_result",
          "data": {
            "text/plain": [
              "[Row(App='YouTube Kids', Category='FAMILY', Rating=4.5, Reviews='470694', Size='Varies with device', Installs='50,000,000+', Type='Free', Price='0', Content Rating='Everyone', Genres='Entertainment;Music & Video', Last Updated='August 3, 2018', Current Ver='3.43.3', Android Ver='4.1 and up'),\n",
              " Row(App='Candy Bomb', Category='FAMILY', Rating=4.4, Reviews='42145', Size='20M', Installs='10,000,000+', Type='Free', Price='0', Content Rating='Everyone', Genres='Casual;Brain Games', Last Updated='July 4, 2018', Current Ver='2.9.3181', Android Ver='4.0.3 and up'),\n",
              " Row(App='ROBLOX', Category='FAMILY', Rating=4.5, Reviews='4449910', Size='67M', Installs='100,000,000+', Type='Free', Price='0', Content Rating='Everyone 10+', Genres='Adventure;Action & Adventure', Last Updated='July 31, 2018', Current Ver='2.347.225742', Android Ver='4.1 and up'),\n",
              " Row(App='Jewels Crush- Match 3 Puzzle', Category='FAMILY', Rating=4.4, Reviews='14774', Size='19M', Installs='1,000,000+', Type='Free', Price='0', Content Rating='Everyone', Genres='Casual;Brain Games', Last Updated='July 23, 2018', Current Ver='1.9.3901', Android Ver='4.0.3 and up'),\n",
              " Row(App='Coloring & Learn', Category='FAMILY', Rating=4.4, Reviews='12753', Size='51M', Installs='5,000,000+', Type='Free', Price='0', Content Rating='Everyone', Genres='Educational;Creativity', Last Updated='July 17, 2018', Current Ver='1.49', Android Ver='4.0.3 and up')]"
            ]
          },
          "metadata": {},
          "execution_count": 7
        }
      ]
    },
    {
      "cell_type": "code",
      "source": [
        "rdd_family = rdd_family.map(lambda x: (x.App, datetime.strptime(x[\"Last Updated\"], \"%B %d, %Y\")))\n",
        "rdd_family.take(5)"
      ],
      "metadata": {
        "colab": {
          "base_uri": "https://localhost:8080/"
        },
        "id": "VdH36kop0ZTd",
        "outputId": "d406603e-a5c5-4958-8f08-ca705b4a01a0"
      },
      "execution_count": null,
      "outputs": [
        {
          "output_type": "execute_result",
          "data": {
            "text/plain": [
              "[('YouTube Kids', datetime.datetime(2018, 8, 3, 0, 0)),\n",
              " ('Candy Bomb', datetime.datetime(2018, 7, 4, 0, 0)),\n",
              " ('ROBLOX', datetime.datetime(2018, 7, 31, 0, 0)),\n",
              " ('Jewels Crush- Match 3 Puzzle', datetime.datetime(2018, 7, 23, 0, 0)),\n",
              " ('Coloring & Learn', datetime.datetime(2018, 7, 17, 0, 0))]"
            ]
          },
          "metadata": {},
          "execution_count": 8
        }
      ]
    },
    {
      "cell_type": "markdown",
      "source": [
        "Convierto las fechas en días (Unix Time Stamp) para facilitarme los cálculos."
      ],
      "metadata": {
        "id": "fEaIJZOpwM-m"
      }
    },
    {
      "cell_type": "code",
      "source": [
        "rdd_family = rdd_family.map(lambda x: (x[0], (datetime.now() - x[1]).days)).cache()\n",
        "rdd_family.take(5)"
      ],
      "metadata": {
        "colab": {
          "base_uri": "https://localhost:8080/"
        },
        "id": "-J5RrPH7QuyL",
        "outputId": "1a2e3248-9a3f-4c73-ff38-d15dea7f49bc"
      },
      "execution_count": null,
      "outputs": [
        {
          "output_type": "execute_result",
          "data": {
            "text/plain": [
              "[('YouTube Kids', 1890),\n",
              " ('Candy Bomb', 1920),\n",
              " ('ROBLOX', 1893),\n",
              " ('Jewels Crush- Match 3 Puzzle', 1901),\n",
              " ('Coloring & Learn', 1907)]"
            ]
          },
          "metadata": {},
          "execution_count": 9
        }
      ]
    },
    {
      "cell_type": "markdown",
      "source": [
        "La antiguedad promedio en días de las aplicaciones de categoría \"Family\" es:"
      ],
      "metadata": {
        "id": "PUOLR3bVdAnr"
      }
    },
    {
      "cell_type": "code",
      "source": [
        "antiguedad_promedio = (rdd_family.map(lambda x: x[1]).reduce(lambda x, y: x + y)) / (rdd_family.count())\n",
        "antiguedad_promedio"
      ],
      "metadata": {
        "colab": {
          "base_uri": "https://localhost:8080/"
        },
        "id": "izDMZoD0QzDz",
        "outputId": "931533d5-4d14-4256-ef07-787c3ad2ae19"
      },
      "execution_count": null,
      "outputs": [
        {
          "output_type": "execute_result",
          "data": {
            "text/plain": [
              "2207.298681541582"
            ]
          },
          "metadata": {},
          "execution_count": 10
        }
      ]
    }
  ]
}